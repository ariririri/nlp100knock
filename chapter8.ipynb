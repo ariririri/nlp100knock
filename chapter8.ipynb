{
 "cells": [
  {
   "cell_type": "markdown",
   "metadata": {},
   "source": [
    "本章では，Bo Pang氏とLillian Lee氏が公開しているMovie Review Dataのsentence polarity dataset v1.0を用い，文を肯定的（ポジティブ）もしくは否定的（ネガティブ）に分類するタスク（極性分析）に取り組む．"
   ]
  },
  {
   "cell_type": "code",
   "execution_count": 1,
   "metadata": {},
   "outputs": [
    {
     "name": "stderr",
     "output_type": "stream",
     "text": [
      "--2018-05-04 11:02:49--  http://www.cs.cornell.edu/people/pabo/movie-review-data/rt-polaritydata.README.1.0.txt\n",
      "Resolving www.cs.cornell.edu (www.cs.cornell.edu)... 132.236.207.20\n",
      "Connecting to www.cs.cornell.edu (www.cs.cornell.edu)|132.236.207.20|:80... connected.\n",
      "HTTP request sent, awaiting response... 200 OK\n",
      "Length: 1682 (1.6K) [text/plain]\n",
      "Saving to: ‘rt-polaritydata.README.1.0.txt’\n",
      "\n",
      "     0K .                                                     100%  112M=0s\n",
      "\n",
      "2018-05-04 11:02:50 (112 MB/s) - ‘rt-polaritydata.README.1.0.txt’ saved [1682/1682]\n",
      "\n"
     ]
    }
   ],
   "source": [
    "%%bash \n",
    "wget http://www.cs.cornell.edu/people/pabo/movie-review-data/rt-polaritydata.README.1.0.txt"
   ]
  },
  {
   "cell_type": "code",
   "execution_count": 2,
   "metadata": {},
   "outputs": [
    {
     "name": "stderr",
     "output_type": "stream",
     "text": [
      "--2018-05-04 11:03:12--  http://www.cs.cornell.edu/people/pabo/movie-review-data/rt-polaritydata.tar.gz\n",
      "Resolving www.cs.cornell.edu (www.cs.cornell.edu)... 132.236.207.20\n",
      "Connecting to www.cs.cornell.edu (www.cs.cornell.edu)|132.236.207.20|:80... connected.\n",
      "HTTP request sent, awaiting response... 200 OK\n",
      "Length: 487770 (476K) [application/x-gzip]\n",
      "Saving to: ‘rt-polaritydata.tar.gz’\n",
      "\n",
      "     0K .......... .......... .......... .......... .......... 10%  132K 3s\n",
      "    50K .......... .......... .......... .......... .......... 20%  128K 3s\n",
      "   100K .......... .......... .......... .......... .......... 31% 7.86M 2s\n",
      "   150K .......... .......... .......... .......... .......... 41%  276K 1s\n",
      "   200K .......... .......... .......... .......... .......... 52%  127K 1s\n",
      "   250K .......... .......... .......... .......... .......... 62%  131K 1s\n",
      "   300K .......... .......... .......... .......... .......... 73%  287K 1s\n",
      "   350K .......... .......... .......... .......... .......... 83%  120K 0s\n",
      "   400K .......... .......... .......... .......... .......... 94% 87.7K 0s\n",
      "   450K .......... .......... ......                          100%  136K=3.1s\n",
      "\n",
      "2018-05-04 11:03:15 (154 KB/s) - ‘rt-polaritydata.tar.gz’ saved [487770/487770]\n",
      "\n"
     ]
    }
   ],
   "source": [
    "%%bash\n",
    "wget http://www.cs.cornell.edu/people/pabo/movie-review-data/rt-polaritydata.tar.gz"
   ]
  },
  {
   "cell_type": "code",
   "execution_count": 5,
   "metadata": {},
   "outputs": [
    {
     "name": "stdout",
     "output_type": "stream",
     "text": [
      "rt-polaritydata.README.1.0.txt\n",
      "rt-polaritydata/rt-polarity.neg\n",
      "rt-polaritydata/rt-polarity.pos\n"
     ]
    }
   ],
   "source": [
    "%%bash\n",
    "tar -zxvf rt-polaritydata.tar.gz"
   ]
  },
  {
   "cell_type": "markdown",
   "metadata": {},
   "source": [
    "## 70. データの入手・整形\n",
    "文に関する極性分析の正解データを用い，以下の要領で正解データ（sentiment.txt）を作成せよ．\n",
    "\n",
    "rt-polarity.posの各行の先頭に\"+1 \"という文字列を追加する（極性ラベル\"+1\"とスペースに続けて肯定的な文の内容が続く）\n",
    "rt-polarity.negの各行の先頭に\"-1 \"という文字列を追加する（極性ラベル\"-1\"とスペースに続けて否定的な文の内容が続く）\n",
    "上述1と2の内容を結合（concatenate）し，行をランダムに並び替える\n",
    "sentiment.txtを作成したら，正例（肯定的な文）の数と負例（否定的な文）の数を確認せよ．"
   ]
  },
  {
   "cell_type": "code",
   "execution_count": 2,
   "metadata": {},
   "outputs": [
    {
     "name": "stdout",
     "output_type": "stream",
     "text": [
      "pos 5331\n",
      "neg 5331\n"
     ]
    }
   ],
   "source": [
    "import random\n",
    "pos = []\n",
    "neg = []\n",
    "with open(\"rt-polaritydata/rt-polarity.neg\",encoding=\"cp1252\") as f_neg, open(\"rt-polaritydata/rt-polarity.pos\",encoding=\"cp1252\") as f_pos:\n",
    "    pos.extend([\"+1 \" + l_pos for l_pos in f_pos])\n",
    "    neg.extend([\"-1 \" + l_neg for l_neg in f_neg])\n",
    "train = pos + neg\n",
    "random.shuffle(train)\n",
    "with open(\"sentiment.txt\",\"w\") as g:\n",
    "    g.writelines(train)\n",
    "\n",
    "pos_n = 0\n",
    "neg_n = 0\n",
    "with open(\"sentiment.txt\",\"r\") as f:\n",
    "    for line in f:\n",
    "        if line[:2] == \"+1\":\n",
    "            pos_n += 1\n",
    "        elif line[:2] == \"-1\":\n",
    "            neg_n += 1\n",
    "        else:\n",
    "            print(\"ERROR: {} is no pos and neg\".format(line[:-1]))\n",
    "            raise\n",
    "print(\"pos\",pos_n)\n",
    "print(\"neg\",neg_n)"
   ]
  },
  {
   "cell_type": "markdown",
   "metadata": {},
   "source": [
    "## 71. ストップワード\n",
    "英語のストップワードのリスト（ストップリスト）を適当に作成せよ．さらに，引数に与えられた単語（文字列）がストップリストに含まれている場合は真，それ以外は偽を返す関数を実装せよ．さらに，その関数に対するテストを記述せよ．"
   ]
  },
  {
   "cell_type": "code",
   "execution_count": 3,
   "metadata": {},
   "outputs": [
    {
     "name": "stdout",
     "output_type": "stream",
     "text": [
      "True\n",
      "False\n"
     ]
    }
   ],
   "source": [
    "from collections import defaultdict\n",
    "# 上位100 ヒューリスティックで削除も可能\n",
    "def make_stopword(data):\n",
    "    voc_dic = defaultdict(int)\n",
    "    for line in data:\n",
    "        for word in line.split()[1:-1]:\n",
    "            voc_dic[word] += 1\n",
    "    return [ k for k,v in  sorted(voc_dic.items(),key=lambda x:x[1],reverse=True)[:100] ]\n",
    "    \n",
    "stopwords = make_stopword(train)\n",
    "\n",
    "def check_stopwords(word):\n",
    "    return  word in stopwords\n",
    "\n",
    "print(check_stopwords(\"a\"))\n",
    "print(check_stopwords(\"swift\"))"
   ]
  },
  {
   "cell_type": "code",
   "execution_count": 54,
   "metadata": {},
   "outputs": [
    {
     "data": {
      "text/plain": [
       "'+1  . . . is funny in the way that makes you ache with sadness ( the way chekhov is funny ) , profound without ever being self-important , warm without ever succumbing to sentimentality . \\n'"
      ]
     },
     "execution_count": 54,
     "metadata": {},
     "output_type": "execute_result"
    }
   ],
   "source": [
    "train[0]"
   ]
  },
  {
   "cell_type": "markdown",
   "metadata": {},
   "source": [
    "## 72. 素性抽出\n",
    "極性分析に有用そうな素性を各自で設計し，学習データから素性を抽出せよ．素性としては，レビューからストップワードを除去し，各単語をステミング処理したものが最低限のベースラインとなるであろう．"
   ]
  },
  {
   "cell_type": "markdown",
   "metadata": {},
   "source": [
    "1. remove stop words\n",
    "1. steming\n",
    "1. normalize\n"
   ]
  },
  {
   "cell_type": "code",
   "execution_count": 42,
   "metadata": {},
   "outputs": [
    {
     "data": {
      "text/plain": [
       "961"
      ]
     },
     "execution_count": 42,
     "metadata": {},
     "output_type": "execute_result"
    }
   ],
   "source": [
    "from nltk import stem\n",
    "def select_characted_words(pos,neg):\n",
    "    voc_dic = defaultdict(int)\n",
    "    for line in pos:\n",
    "        for word in line.split()[1:-1]:\n",
    "            voc_dic[ stem.porter.PorterStemmer().stem(word)] += 1\n",
    "    for line in neg:\n",
    "        for word in line.split()[1:-1]:\n",
    "            voc_dic[ stem.porter.PorterStemmer().stem(word)] -= 1\n",
    "    return [ k for k,v in sorted(voc_dic.items(),key=lambda x:x[1],reverse=True) if (v >= 8 or  v <= -8) and not k in stopwords and len(k) >= 3]\n",
    "char_words = select_characted_words(pos,neg)\n",
    "len(char_words)"
   ]
  },
  {
   "cell_type": "markdown",
   "metadata": {},
   "source": [
    "## 73. 学習\n",
    "72で抽出した素性を用いて，ロジスティック回帰モデルを学習せよ．"
   ]
  },
  {
   "cell_type": "code",
   "execution_count": 45,
   "metadata": {},
   "outputs": [
    {
     "data": {
      "text/plain": [
       "LogisticRegression(C=1.0, class_weight=None, dual=False, fit_intercept=True,\n",
       "          intercept_scaling=1, max_iter=100, multi_class='ovr', n_jobs=1,\n",
       "          penalty='l2', random_state=None, solver='liblinear', tol=0.0001,\n",
       "          verbose=0, warm_start=False)"
      ]
     },
     "execution_count": 45,
     "metadata": {},
     "output_type": "execute_result"
    }
   ],
   "source": [
    "import numpy as np\n",
    "def char2dic(char_words):\n",
    "    return { char:i for i,char in enumerate(char_words) }\n",
    "def dic2char(char_words):\n",
    "    return {i:char for i,char in enumerate(char_words)}\n",
    "\n",
    "def make_data(data):\n",
    "    char_dic = char2dic(char_words)\n",
    "    dic_char = dic2char(char_words)\n",
    "    inputs = np.zeros([len(data), len(char_dic)])\n",
    "    outputs = np.zeros([len(data)])\n",
    "    for i,line in enumerate(data):\n",
    "        for word in line[:-1].split()[1:]:\n",
    "            if stem.porter.PorterStemmer().stem(word) in char_dic:\n",
    "                inputs[i][char_dic[stem.porter.PorterStemmer().stem(word)]] += 1\n",
    "        outputs[i] = int(line[:-1].split()[0])\n",
    "    return inputs,outputs\n",
    "\n",
    "inputs,outputs = make_data(train)\n",
    "from sklearn.cross_validation import train_test_split\n",
    "from sklearn.preprocessing import StandardScaler\n",
    "from sklearn.linear_model import LogisticRegression\n",
    "lr = LogisticRegression()\n",
    "lr.fit(inputs,outputs)"
   ]
  },
  {
   "cell_type": "markdown",
   "metadata": {},
   "source": [
    "## 74. 予測\n",
    "73で学習したロジスティック回帰モデルを用い，与えられた文の極性ラベル（正例なら\"+1\"，負例なら\"-1\"）と，その予測確率を計算するプログラムを実装せよ．"
   ]
  },
  {
   "cell_type": "code",
   "execution_count": 32,
   "metadata": {},
   "outputs": [
    {
     "data": {
      "text/plain": [
       "array([-1., -1., -1., -1., -1.,  1., -1.,  1.,  1.,  1.])"
      ]
     },
     "execution_count": 32,
     "metadata": {},
     "output_type": "execute_result"
    }
   ],
   "source": [
    "pred = lr.predict(inputs)\n",
    "pred[:10]"
   ]
  },
  {
   "cell_type": "markdown",
   "metadata": {},
   "source": [
    "## 75. 素性の重み\n",
    "73で学習したロジスティック回帰モデルの中で，重みの高い素性トップ10と，重みの低い素性トップ10を確認せよ"
   ]
  },
  {
   "cell_type": "code",
   "execution_count": 68,
   "metadata": {},
   "outputs": [
    {
     "name": "stdout",
     "output_type": "stream",
     "text": [
      "top ['grandeur', 'polish', 'examin', 'reflect', 'awar', 'sli', 'resist', 'unexpect', 'refresh', 'engross']\n",
      "bottom ['bore', 'dull', 'plod', 'wast', 'badli', 'appar', 'flat', 'unfunni', 'neither', 'squander']\n"
     ]
    }
   ],
   "source": [
    "params = lr.coef_.reshape(-1)\n",
    "bottom =  params.argsort()[:10]\n",
    "top = params.argsort()[-10:]\n",
    "dic_char = dic2char(char_words)\n",
    "print(\"top\",[ dic_char[i] for i in top ])\n",
    "print(\"bottom\",[ dic_char[i] for i in bottom])"
   ]
  },
  {
   "cell_type": "markdown",
   "metadata": {},
   "source": [
    "## 76. ラベル付け\n",
    "学習データに対してロジスティック回帰モデルを適用し，正解のラベル，予測されたラベル，予測確率をタブ区切り形式で出力せよ．"
   ]
  },
  {
   "cell_type": "code",
   "execution_count": 72,
   "metadata": {},
   "outputs": [],
   "source": [
    "out = \"76Logresult.txt\"\n",
    "pred = lr.predict(inputs)\n",
    "prob = lr.predict_proba(inputs)\n",
    "with open(out,\"w\") as f:\n",
    "    f.write(\"ans\\tpred\\tprob\\n\")\n",
    "    for ans,pd,pb in zip(outputs,pred,prob):\n",
    "        f.write(\"{}\\t{}\\t{}\\n\".format(ans,pd,pb))"
   ]
  },
  {
   "cell_type": "code",
   "execution_count": 73,
   "metadata": {},
   "outputs": [
    {
     "name": "stdout",
     "output_type": "stream",
     "text": [
      "ans\tpred\tprob\n",
      "-1.0\t-1.0\t[ 0.99597134  0.00402866]\n",
      "-1.0\t-1.0\t[ 0.79211232  0.20788768]\n",
      "-1.0\t-1.0\t[ 0.62983798  0.37016202]\n",
      "-1.0\t-1.0\t[ 0.8590184  0.1409816]\n",
      "-1.0\t-1.0\t[ 0.97469768  0.02530232]\n",
      "1.0\t1.0\t[ 0.20532811  0.79467189]\n",
      "1.0\t-1.0\t[ 0.66038899  0.33961101]\n",
      "1.0\t1.0\t[ 0.03701433  0.96298567]\n",
      "1.0\t1.0\t[ 0.0155183  0.9844817]\n"
     ]
    }
   ],
   "source": [
    "%%bash\n",
    "head 76Logresult.txt"
   ]
  },
  {
   "cell_type": "markdown",
   "metadata": {},
   "source": [
    "## 77. 正解率の計測\n",
    "76の出力を受け取り，予測の正解率，正例に関する適合率，再現率，F1スコアを求めるプログラムを作成せよ．"
   ]
  },
  {
   "cell_type": "code",
   "execution_count": 80,
   "metadata": {},
   "outputs": [
    {
     "name": "stdout",
     "output_type": "stream",
     "text": [
      "accuracy 80.64153066966799\n",
      "precison 81.38328530259365\n",
      "recall 79.45976364659538\n",
      "f1 80.41002277904327\n"
     ]
    }
   ],
   "source": [
    "def confusion_matrix(ans,pred):\n",
    "    tp,tn,fp,fn = 0,0,0,0\n",
    "    for an,pd in zip(ans,pred):\n",
    "        if an == pd and an > 0:\n",
    "            tp += 1\n",
    "        elif an == pd:\n",
    "            tn += 1\n",
    "        elif an > 0:\n",
    "            fn += 1\n",
    "        else:\n",
    "            fp += 1\n",
    "    return tp,tn,fp,fn\n",
    "\n",
    "def acprecl(outputs,pred):\n",
    "    tp,tn,fp,fn = confusion_matrix(outputs,pred)\n",
    "    accuracy = (tp + tn ) / ( tp + tn + fp + fn) * 100\n",
    "    precision = tp / (tp + fp) * 100\n",
    "    recall = tp / (tp + fn ) * 100\n",
    "    f1 =  2 * tp /( 2 * tp + fp + fn) * 100\n",
    "    return accuracy,precision,recall,f1\n",
    "\n",
    "accuracy,precision,recall,f1 = acprecl(outputs,pred)\n",
    "print(\"accuracy\",accuracy)\n",
    "print(\"precison\",precision)\n",
    "print(\"recall\",recall)\n",
    "print(\"f1\",f1)"
   ]
  },
  {
   "cell_type": "markdown",
   "metadata": {},
   "source": [
    "## 78. 5分割交差検定\n",
    "76-77の実験では，学習に用いた事例を評価にも用いたため，正当な評価とは言えない．すなわち，分類器が訓練事例を丸暗記する際の性能を評価しており，モデルの汎化性能を測定していない．そこで，5分割交差検定により，極性分類の正解率，適合率，再現率，F1スコアを求めよ．"
   ]
  },
  {
   "cell_type": "code",
   "execution_count": 82,
   "metadata": {},
   "outputs": [
    {
     "name": "stdout",
     "output_type": "stream",
     "text": [
      "accuracy 75.9493670886076\n",
      "precison 76.81297709923665\n",
      "recall 74.88372093023256\n",
      "f1 75.83608101742817\n",
      "accuracy 74.9648382559775\n",
      "precison 74.88106565176022\n",
      "recall 74.45600756859035\n",
      "f1 74.66793168880456\n",
      "accuracy 76.40712945590994\n",
      "precison 77.62512266928361\n",
      "recall 74.20262664165104\n",
      "f1 75.87529976019185\n",
      "accuracy 76.50093808630393\n",
      "precison 76.71232876712328\n",
      "recall 74.88061127029609\n",
      "f1 75.78540357660705\n",
      "accuracy 76.03189493433395\n",
      "precison 76.99530516431925\n",
      "recall 75.50644567219152\n",
      "f1 76.24360762436076\n"
     ]
    }
   ],
   "source": [
    "from sklearn.linear_model import LogisticRegressionCV\n",
    "from sklearn import cross_validation\n",
    "k_fold = cross_validation.KFold(n=len(inputs),n_folds = 5)\n",
    "outputs_fold = []\n",
    "predict_fold = []\n",
    "for train,test in k_fold:\n",
    "    lr.fit(inputs[train],outputs[train])\n",
    "    outputs_fold.append(outputs[test])\n",
    "    predict_fold.append(lr.predict(inputs[test]))\n",
    "\n",
    "for out_i,pred_i in  zip(outputs_fold,predict_fold):\n",
    "    accuracy,precision,recall,f1 = acprecl(out_i,pred_i)\n",
    "    print(\"accuracy\",accuracy)\n",
    "    print(\"precison\",precision)\n",
    "    print(\"recall\",recall)\n",
    "    print(\"f1\",f1)\n",
    "    "
   ]
  },
  {
   "cell_type": "markdown",
   "metadata": {},
   "source": [
    "## 79. 適合率-再現率グラフの描画\n",
    "ロジスティック回帰モデルの分類の閾値を変化させることで，適合率-再現率グラフを描画せよ．"
   ]
  },
  {
   "cell_type": "code",
   "execution_count": 110,
   "metadata": {},
   "outputs": [
    {
     "name": "stdout",
     "output_type": "stream",
     "text": [
      "0.0\n",
      "0.05\n",
      "0.1\n",
      "0.15000000000000002\n",
      "0.2\n",
      "0.25\n",
      "0.30000000000000004\n",
      "0.35000000000000003\n",
      "0.4\n",
      "0.45\n",
      "0.5\n",
      "0.55\n",
      "0.6000000000000001\n",
      "0.65\n",
      "0.7000000000000001\n",
      "0.75\n",
      "0.8\n",
      "0.8500000000000001\n",
      "0.9\n",
      "0.9500000000000001\n"
     ]
    },
    {
     "data": {
      "image/png": "[encoded data removed]",
      "text/plain": [
       "<matplotlib.figure.Figure at 0x7f9a95406588>"
      ]
     },
     "metadata": {},
     "output_type": "display_data"
    },
    {
     "data": {
      "image/png": "[encoded data removed]",
      "text/plain": [
       "<matplotlib.figure.Figure at 0x7f9a952049e8>"
      ]
     },
     "metadata": {},
     "output_type": "display_data"
    }
   ],
   "source": [
    "def confusion_matrix_prob(ans,prob,bound):\n",
    "    tp,tn,fp,fn = 0,0,0,0\n",
    "    for an,pd in zip(ans,prob):\n",
    "        if an == 1 and pd >= bound:\n",
    "            tp += 1\n",
    "        elif an == -1 and pd < bound:\n",
    "            tn += 1\n",
    "        elif an > 0:\n",
    "            fn += 1\n",
    "        else:\n",
    "            fp += 1\n",
    "    return tp,tn,fp,fn\n",
    "\n",
    "def acprecl_prob(outputs,prob,bound):\n",
    "    tp,tn,fp,fn = confusion_matrix_prob(outputs,prob,bound)\n",
    "    #tp,tn,fp,fn = confusion_matrix_prob(outputs,prob,0)\n",
    "    accuracy = (tp + tn ) / ( tp + tn + fp + fn) * 100\n",
    "    precision = tp / (tp + fp) * 100\n",
    "    recall = tp / (tp + fn ) * 100\n",
    "    f1 =  2 * tp /( 2 * tp + fp + fn) * 100\n",
    "    return accuracy,precision,recall,f1\n",
    "\n",
    "\n",
    "import matplotlib.pyplot as plt\n",
    "figure = plt.figure()\n",
    "plt.style.use(\"ggplot\")\n",
    "ax = figure.add_subplot(111)\n",
    "acs = []\n",
    "prs = []\n",
    "res = []\n",
    "f1s = []\n",
    "prob_t = prob.transpose(1,0)[1]\n",
    "bounds = [ i * 0.05 for i in range(0,20)]\n",
    "for bound in bounds:\n",
    "    print(bound)\n",
    "    accuracy,precision,recall,f1 = acprecl_prob(outputs,prob_t,bound)\n",
    "    acs.append(accuracy)\n",
    "    prs.append(precision)\n",
    "    res.append(recall)\n",
    "    f1s.append(f1)\n",
    "\n",
    "ax.plot(bounds,acs,label=\"accuracy\")\n",
    "ax.plot(bounds,prs,label=\"precision\")\n",
    "ax.plot(bounds,res,label=\"recall\")\n",
    "ax.plot(bounds,f1s,label=\"f1\")\n",
    "ax.legend()\n",
    "figure = plt.figure()\n",
    "bx = figure.add_subplot(111)\n",
    "bx.plot(res,prs,label=\"PR\")\n",
    "bx.legend()\n",
    "plt.show()"
   ]
  },
  {
   "cell_type": "code",
   "execution_count": 102,
   "metadata": {},
   "outputs": [
    {
     "data": {
      "text/plain": [
       "10662"
      ]
     },
     "execution_count": 102,
     "metadata": {},
     "output_type": "execute_result"
    }
   ],
   "source": [
    "len(prob_t)\n",
    "len(outputs)"
   ]
  },
  {
   "cell_type": "code",
   "execution_count": 109,
   "metadata": {},
   "outputs": [
    {
     "data": {
      "image/png": "[encoded data removed]",
      "text/plain": [
       "<matplotlib.figure.Figure at 0x7f9a952cd860>"
      ]
     },
     "metadata": {},
     "output_type": "display_data"
    }
   ],
   "source": [
    "plt.style.use(\"ggplot\")\n",
    "fig = plt.figure()\n",
    "ax = fig.add_subplot(122)\n",
    "x = np.linspace(0,2.0,100)\n",
    "y = np.exp(x)\n",
    "z = np.sin(x * np.pi )\n",
    "\n",
    "ax.plot(x,y,label=\"exp\")\n",
    "ax.set_xlabel(\"x-layer\")\n",
    "ax.set_ylabel(\"y-layer\") \n",
    "ax.plot(x,z,label=\"sin\")\n",
    "ax.set_title(\"Graph Title\")\n",
    "ax.legend()\n",
    "bx = fig.add_subplot(121)\n",
    "bx.hist(y,label=\"sinhist\",bins=20)\n",
    "bx.set_title(\"hist\")\n",
    "plt.show()"
   ]
  },
  {
   "cell_type": "code",
   "execution_count": null,
   "metadata": {},
   "outputs": [],
   "source": []
  }
 ],
 "metadata": {
  "kernelspec": {
   "display_name": "Python 3",
   "language": "python",
   "name": "python3"
  },
  "language_info": {
   "codemirror_mode": {
    "name": "ipython",
    "version": 3
   },
   "file_extension": ".py",
   "mimetype": "text/x-python",
   "name": "python",
   "nbconvert_exporter": "python",
   "pygments_lexer": "ipython3",
   "version": "3.6.1"
  }
 },
 "nbformat": 4,
 "nbformat_minor": 2
}
